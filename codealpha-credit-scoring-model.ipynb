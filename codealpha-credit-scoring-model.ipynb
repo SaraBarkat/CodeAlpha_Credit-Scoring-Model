{
 "cells": [
  {
   "cell_type": "markdown",
   "id": "84733631",
   "metadata": {
    "papermill": {
     "duration": 0.00336,
     "end_time": "2025-08-28T17:00:29.564934",
     "exception": false,
     "start_time": "2025-08-28T17:00:29.561574",
     "status": "completed"
    },
    "tags": []
   },
   "source": [
    "# Credit Score Prediction using Decision Trees"
   ]
  },
  {
   "cell_type": "markdown",
   "id": "528c2cb2",
   "metadata": {
    "papermill": {
     "duration": 0.002386,
     "end_time": "2025-08-28T17:00:29.570404",
     "exception": false,
     "start_time": "2025-08-28T17:00:29.568018",
     "status": "completed"
    },
    "tags": []
   },
   "source": [
    "## Setup"
   ]
  },
  {
   "cell_type": "code",
   "execution_count": 1,
   "id": "deaca51b",
   "metadata": {
    "execution": {
     "iopub.execute_input": "2025-08-28T17:00:29.577418Z",
     "iopub.status.busy": "2025-08-28T17:00:29.577119Z",
     "iopub.status.idle": "2025-08-28T17:00:33.250701Z",
     "shell.execute_reply": "2025-08-28T17:00:33.249865Z"
    },
    "papermill": {
     "duration": 3.679036,
     "end_time": "2025-08-28T17:00:33.252418",
     "exception": false,
     "start_time": "2025-08-28T17:00:29.573382",
     "status": "completed"
    },
    "tags": []
   },
   "outputs": [],
   "source": [
    "import pandas as pd\n",
    "import numpy as np\n",
    "from sklearn.tree import DecisionTreeRegressor\n",
    "from sklearn.model_selection import train_test_split\n",
    "from sklearn.metrics import mean_absolute_error\n",
    "import joblib\n",
    "\n"
   ]
  },
  {
   "cell_type": "markdown",
   "id": "355a9aed",
   "metadata": {
    "papermill": {
     "duration": 0.002402,
     "end_time": "2025-08-28T17:00:33.257837",
     "exception": false,
     "start_time": "2025-08-28T17:00:33.255435",
     "status": "completed"
    },
    "tags": []
   },
   "source": [
    "## Data Preparation"
   ]
  },
  {
   "cell_type": "code",
   "execution_count": 2,
   "id": "3f524187",
   "metadata": {
    "execution": {
     "iopub.execute_input": "2025-08-28T17:00:33.264305Z",
     "iopub.status.busy": "2025-08-28T17:00:33.263877Z",
     "iopub.status.idle": "2025-08-28T17:00:33.320947Z",
     "shell.execute_reply": "2025-08-28T17:00:33.319974Z"
    },
    "papermill": {
     "duration": 0.06202,
     "end_time": "2025-08-28T17:00:33.322385",
     "exception": false,
     "start_time": "2025-08-28T17:00:33.260365",
     "status": "completed"
    },
    "tags": []
   },
   "outputs": [
    {
     "name": "stdout",
     "output_type": "stream",
     "text": [
      "Columns : \n",
      "Index(['age', 'education', 'employ', 'address', 'income', 'debtinc',\n",
      "       'creddebt', 'othdebt', 'default', 'credit_score'],\n",
      "      dtype='object')\n",
      "\n",
      "Data descriptions : \n",
      "              age   education      employ     address      income     debtinc  \\\n",
      "count  700.000000  700.000000  700.000000  700.000000  700.000000  700.000000   \n",
      "mean    34.860000    1.722857    8.388571    8.278571   45.601429   10.260571   \n",
      "std      7.997342    0.928206    6.658039    6.824877   36.814226    6.827234   \n",
      "min     20.000000    1.000000    0.000000    0.000000   14.000000    0.400000   \n",
      "25%     29.000000    1.000000    3.000000    3.000000   24.000000    5.000000   \n",
      "50%     34.000000    1.000000    7.000000    7.000000   34.000000    8.600000   \n",
      "75%     40.000000    2.000000   12.000000   12.000000   55.000000   14.125000   \n",
      "max     56.000000    5.000000   31.000000   34.000000  446.000000   41.300000   \n",
      "\n",
      "         creddebt     othdebt     default  credit_score  \n",
      "count  700.000000  700.000000  700.000000    700.000000  \n",
      "mean     1.553553    3.058209    0.261429    493.803566  \n",
      "std      2.117197    3.287555    0.439727     26.390507  \n",
      "min      0.011696    0.045584    0.000000    458.169459  \n",
      "25%      0.369059    1.044178    0.000000    476.853951  \n",
      "50%      0.854869    1.987567    0.000000    487.120215  \n",
      "75%      1.901955    3.923065    1.000000    502.622108  \n",
      "max     20.561310   27.033600    1.000000    738.395706  \n"
     ]
    }
   ],
   "source": [
    "# Load the Data\n",
    "\n",
    "credit_score_data = pd.read_csv('/kaggle/input/credit-card-score/bankloans_with_scores.csv')\n",
    "credit_score_data=credit_score_data.dropna(axis=0)\n",
    "\n",
    "print('Columns : ')\n",
    "print(credit_score_data.columns)\n",
    "\n",
    "\n",
    "print('\\nData descriptions : ')\n",
    "print(credit_score_data.describe())\n",
    "\n"
   ]
  },
  {
   "cell_type": "markdown",
   "id": "febd4f40",
   "metadata": {
    "papermill": {
     "duration": 0.002653,
     "end_time": "2025-08-28T17:00:33.327977",
     "exception": false,
     "start_time": "2025-08-28T17:00:33.325324",
     "status": "completed"
    },
    "tags": []
   },
   "source": [
    "## Specify Prediction Target"
   ]
  },
  {
   "cell_type": "code",
   "execution_count": 3,
   "id": "537f430a",
   "metadata": {
    "execution": {
     "iopub.execute_input": "2025-08-28T17:00:33.334432Z",
     "iopub.status.busy": "2025-08-28T17:00:33.334119Z",
     "iopub.status.idle": "2025-08-28T17:00:33.343913Z",
     "shell.execute_reply": "2025-08-28T17:00:33.342847Z"
    },
    "papermill": {
     "duration": 0.014706,
     "end_time": "2025-08-28T17:00:33.345272",
     "exception": false,
     "start_time": "2025-08-28T17:00:33.330566",
     "status": "completed"
    },
    "tags": []
   },
   "outputs": [
    {
     "name": "stdout",
     "output_type": "stream",
     "text": [
      "Prediction Target  : \n",
      "0      575.934522\n",
      "1      478.334960\n",
      "2      508.423785\n",
      "3      548.412256\n",
      "4      469.753713\n",
      "          ...    \n",
      "695    487.659188\n",
      "696    474.643101\n",
      "697    486.775347\n",
      "698    526.285878\n",
      "699    494.627463\n",
      "Name: credit_score, Length: 700, dtype: float64\n",
      "\n",
      "prediction target description : \n",
      "count    700.000000\n",
      "mean     493.803566\n",
      "std       26.390507\n",
      "min      458.169459\n",
      "25%      476.853951\n",
      "50%      487.120215\n",
      "75%      502.622108\n",
      "max      738.395706\n",
      "Name: credit_score, dtype: float64\n"
     ]
    }
   ],
   "source": [
    "y= credit_score_data.credit_score\n",
    "print('Prediction Target  : ')\n",
    "print(y)\n",
    "\n",
    "print('\\nprediction target description : ')\n",
    "print(y.describe())\n",
    "\n"
   ]
  },
  {
   "cell_type": "markdown",
   "id": "2b0aa73e",
   "metadata": {
    "papermill": {
     "duration": 0.002678,
     "end_time": "2025-08-28T17:00:33.351471",
     "exception": false,
     "start_time": "2025-08-28T17:00:33.348793",
     "status": "completed"
    },
    "tags": []
   },
   "source": [
    "## Create X\n",
    "\n",
    "Now we will create a DataFrame called X holding the predictive features.\n",
    "\n",
    "We'll use just the following columns in the list : \n",
    "\n",
    "* income \n",
    "* debtinc :debt-to-income ratio\n",
    "* creddebt :credit card debt\n",
    "* othdebt\n",
    "* age\n",
    "* employ\n",
    "* address\n",
    "* education"
   ]
  },
  {
   "cell_type": "code",
   "execution_count": 4,
   "id": "812becd3",
   "metadata": {
    "execution": {
     "iopub.execute_input": "2025-08-28T17:00:33.358460Z",
     "iopub.status.busy": "2025-08-28T17:00:33.358182Z",
     "iopub.status.idle": "2025-08-28T17:00:33.387905Z",
     "shell.execute_reply": "2025-08-28T17:00:33.386895Z"
    },
    "papermill": {
     "duration": 0.034945,
     "end_time": "2025-08-28T17:00:33.389400",
     "exception": false,
     "start_time": "2025-08-28T17:00:33.354455",
     "status": "completed"
    },
    "tags": []
   },
   "outputs": [
    {
     "name": "stdout",
     "output_type": "stream",
     "text": [
      "X : \n",
      "     income  debtinc   creddebt   othdebt  age  employ  address  education  \\\n",
      "0       176      9.3  11.359392  5.008608   41      17       12          3   \n",
      "1        31     17.3   1.362202  4.000798   27      10        6          1   \n",
      "2        55      5.5   0.856075  2.168925   40      15       14          1   \n",
      "3       120      2.9   2.658720  0.821280   41      15       14          1   \n",
      "4        28     17.3   1.787436  3.056564   24       2        0          2   \n",
      "..      ...      ...        ...       ...  ...     ...      ...        ...   \n",
      "695      27      4.6   0.262062  0.979938   36       6       15          2   \n",
      "696      21     11.5   0.369495  2.045505   29       6        4          2   \n",
      "697      32      7.6   0.491264  1.940736   33      15        3          1   \n",
      "698      77      8.4   2.302608  4.165392   45      19       22          1   \n",
      "699      44     14.7   2.994684  3.473316   37      12       14          1   \n",
      "\n",
      "     default  \n",
      "0        1.0  \n",
      "1        0.0  \n",
      "2        0.0  \n",
      "3        0.0  \n",
      "4        1.0  \n",
      "..       ...  \n",
      "695      1.0  \n",
      "696      0.0  \n",
      "697      0.0  \n",
      "698      0.0  \n",
      "699      0.0  \n",
      "\n",
      "[700 rows x 9 columns]\n",
      "\n",
      "Features description  : \n",
      "           income     debtinc    creddebt     othdebt         age      employ  \\\n",
      "count  700.000000  700.000000  700.000000  700.000000  700.000000  700.000000   \n",
      "mean    45.601429   10.260571    1.553553    3.058209   34.860000    8.388571   \n",
      "std     36.814226    6.827234    2.117197    3.287555    7.997342    6.658039   \n",
      "min     14.000000    0.400000    0.011696    0.045584   20.000000    0.000000   \n",
      "25%     24.000000    5.000000    0.369059    1.044178   29.000000    3.000000   \n",
      "50%     34.000000    8.600000    0.854869    1.987567   34.000000    7.000000   \n",
      "75%     55.000000   14.125000    1.901955    3.923065   40.000000   12.000000   \n",
      "max    446.000000   41.300000   20.561310   27.033600   56.000000   31.000000   \n",
      "\n",
      "          address   education     default  \n",
      "count  700.000000  700.000000  700.000000  \n",
      "mean     8.278571    1.722857    0.261429  \n",
      "std      6.824877    0.928206    0.439727  \n",
      "min      0.000000    1.000000    0.000000  \n",
      "25%      3.000000    1.000000    0.000000  \n",
      "50%      7.000000    1.000000    0.000000  \n",
      "75%     12.000000    2.000000    1.000000  \n",
      "max     34.000000    5.000000    1.000000  \n"
     ]
    }
   ],
   "source": [
    "features=['income','debtinc','creddebt','othdebt','age','employ','address','education','default']\n",
    "X=credit_score_data[features]\n",
    "print('X : ')\n",
    "print(X)\n",
    "\n",
    "print('\\nFeatures description  : ')\n",
    "print(X.describe())\n"
   ]
  },
  {
   "cell_type": "markdown",
   "id": "43c8b7c7",
   "metadata": {
    "papermill": {
     "duration": 0.002787,
     "end_time": "2025-08-28T17:00:33.395222",
     "exception": false,
     "start_time": "2025-08-28T17:00:33.392435",
     "status": "completed"
    },
    "tags": []
   },
   "source": [
    "## Build,Train and Evaluate the Model"
   ]
  },
  {
   "cell_type": "code",
   "execution_count": 5,
   "id": "b2ed0096",
   "metadata": {
    "execution": {
     "iopub.execute_input": "2025-08-28T17:00:33.402851Z",
     "iopub.status.busy": "2025-08-28T17:00:33.402055Z",
     "iopub.status.idle": "2025-08-28T17:00:33.427291Z",
     "shell.execute_reply": "2025-08-28T17:00:33.426200Z"
    },
    "papermill": {
     "duration": 0.030752,
     "end_time": "2025-08-28T17:00:33.428929",
     "exception": false,
     "start_time": "2025-08-28T17:00:33.398177",
     "status": "completed"
    },
    "tags": []
   },
   "outputs": [
    {
     "name": "stdout",
     "output_type": "stream",
     "text": [
      "DecisionTreeRegressor ... \n",
      "\n",
      "Split the data ...\n",
      "\n",
      "Train_x : \n",
      "     income  debtinc  creddebt   othdebt  age  employ  address  education  \\\n",
      "262      18     11.9  0.400554  1.741446   27       8        7          2   \n",
      "305      18      1.2  0.065880  0.150120   25       9        4          1   \n",
      "573      15     11.3  0.072885  1.622115   24       3        5          1   \n",
      "607      36      4.7  0.624348  1.067652   34       3       14          1   \n",
      "248      40     18.5  1.213600  6.186400   35      15       11          1   \n",
      "..      ...      ...       ...       ...  ...     ...      ...        ...   \n",
      "144      68      5.4  0.447984  3.224016   41      16       17          1   \n",
      "645      42      3.9  1.018836  0.619164   23       0        1          2   \n",
      "72      100     12.8  4.582400  8.217600   47      26       21          1   \n",
      "235      18      6.5  0.526500  0.643500   24       7        0          1   \n",
      "37       54     14.4  3.195936  4.580064   32      12        1          2   \n",
      "\n",
      "     default  \n",
      "262      0.0  \n",
      "305      0.0  \n",
      "573      1.0  \n",
      "607      0.0  \n",
      "248      0.0  \n",
      "..       ...  \n",
      "144      0.0  \n",
      "645      1.0  \n",
      "72       0.0  \n",
      "235      0.0  \n",
      "37       0.0  \n",
      "\n",
      "[525 rows x 9 columns]\n",
      "\n",
      "Test_x : \n",
      "     income  debtinc  creddebt   othdebt  age  employ  address  education  \\\n",
      "681      14      9.7  0.200984  1.157016   20       4        0          1   \n",
      "626      47     10.9  2.863757  2.259243   31      11       12          1   \n",
      "329      23     12.0  0.761760  1.998240   30       8        6          1   \n",
      "620      19      6.9  0.190095  1.120905   25       1        1          1   \n",
      "399      16      9.6  0.804864  0.731136   23       2        2          1   \n",
      "..      ...      ...       ...       ...  ...     ...      ...        ...   \n",
      "345      19     16.6  0.624492  2.529508   30       0        8          1   \n",
      "116      65      6.2  2.107690  1.922310   34       9        9          2   \n",
      "245      31     23.7  2.057160  5.289840   31      12        4          1   \n",
      "617      18      5.1  0.449820  0.468180   29       6        7          2   \n",
      "95       54      4.4  0.727056  1.648944   36      17        6          1   \n",
      "\n",
      "     default  \n",
      "681      1.0  \n",
      "626      0.0  \n",
      "329      0.0  \n",
      "620      0.0  \n",
      "399      1.0  \n",
      "..       ...  \n",
      "345      1.0  \n",
      "116      0.0  \n",
      "245      0.0  \n",
      "617      1.0  \n",
      "95       0.0  \n",
      "\n",
      "[175 rows x 9 columns]\n",
      "\n",
      "Train_y: \n",
      "262    473.931489\n",
      "305    476.263624\n",
      "573    466.926423\n",
      "607    490.456730\n",
      "248    490.077280\n",
      "          ...    \n",
      "144    518.216003\n",
      "645    483.508633\n",
      "72     539.803520\n",
      "235    471.060700\n",
      "37     494.045613\n",
      "Name: credit_score, Length: 525, dtype: float64\n",
      "\n",
      "Test_x : \n",
      "681    463.808203\n",
      "626    494.642649\n",
      "329    476.695648\n",
      "620    469.939781\n",
      "399    466.091827\n",
      "          ...    \n",
      "345    469.204302\n",
      "116    507.692462\n",
      "245    476.839168\n",
      "617    476.086436\n",
      "95     504.419389\n",
      "Name: credit_score, Length: 175, dtype: float64\n",
      "\n",
      "Fitting the model ...\n",
      "\n",
      "Predictions ...\n",
      "\n",
      "Calculating the Mean Absolute Error in Validation Data ...\n",
      "MEA :   3.7905454342857157\n"
     ]
    }
   ],
   "source": [
    "# Specify the model : \n",
    "model=DecisionTreeRegressor()\n",
    "print(\"DecisionTreeRegressor ... \")\n",
    "# Split the data :\n",
    "print('\\nSplit the data ...')\n",
    "train_x,test_x,train_y,test_y=train_test_split(X,y,random_state=1)\n",
    "\n",
    "print('\\nTrain_x : ')\n",
    "print(train_x)\n",
    "print('\\nTest_x : ')\n",
    "print(test_x)\n",
    "print('\\nTrain_y: ')\n",
    "print(train_y)\n",
    "print('\\nTest_x : ')\n",
    "print(test_y)\n",
    "# Fit and  the model :\n",
    "print('\\nFitting the model ...')\n",
    "model.fit(train_x,train_y)\n",
    "\n",
    "# Make predictions :\n",
    "print('\\nPredictions ...')\n",
    "predictions=model.predict(test_x)\n",
    "\n",
    "#Calculate the Mean Absolute Error in Validation Data\n",
    "print('\\nCalculating the Mean Absolute Error in Validation Data ...')\n",
    "mea=mean_absolute_error(test_y,predictions)\n",
    "print('MEA :  ',mea)"
   ]
  },
  {
   "cell_type": "markdown",
   "id": "24de30fc",
   "metadata": {
    "papermill": {
     "duration": 0.003014,
     "end_time": "2025-08-28T17:00:33.435296",
     "exception": false,
     "start_time": "2025-08-28T17:00:33.432282",
     "status": "completed"
    },
    "tags": []
   },
   "source": [
    "## Save the Model"
   ]
  },
  {
   "cell_type": "code",
   "execution_count": 6,
   "id": "ca6d87fe",
   "metadata": {
    "execution": {
     "iopub.execute_input": "2025-08-28T17:00:33.442654Z",
     "iopub.status.busy": "2025-08-28T17:00:33.442361Z",
     "iopub.status.idle": "2025-08-28T17:00:33.450744Z",
     "shell.execute_reply": "2025-08-28T17:00:33.449868Z"
    },
    "papermill": {
     "duration": 0.013741,
     "end_time": "2025-08-28T17:00:33.452124",
     "exception": false,
     "start_time": "2025-08-28T17:00:33.438383",
     "status": "completed"
    },
    "tags": []
   },
   "outputs": [
    {
     "data": {
      "text/plain": [
       "['credit_scoring_model.pkl']"
      ]
     },
     "execution_count": 6,
     "metadata": {},
     "output_type": "execute_result"
    }
   ],
   "source": [
    "joblib.dump(model, \"credit_scoring_model.pkl\")\n"
   ]
  },
  {
   "cell_type": "markdown",
   "id": "9ae8248b",
   "metadata": {
    "papermill": {
     "duration": 0.003008,
     "end_time": "2025-08-28T17:00:33.458485",
     "exception": false,
     "start_time": "2025-08-28T17:00:33.455477",
     "status": "completed"
    },
    "tags": []
   },
   "source": [
    "## Save the Dataframe"
   ]
  },
  {
   "cell_type": "code",
   "execution_count": 7,
   "id": "03b646f3",
   "metadata": {
    "execution": {
     "iopub.execute_input": "2025-08-28T17:00:33.466769Z",
     "iopub.status.busy": "2025-08-28T17:00:33.465733Z",
     "iopub.status.idle": "2025-08-28T17:00:33.487143Z",
     "shell.execute_reply": "2025-08-28T17:00:33.485940Z"
    },
    "papermill": {
     "duration": 0.027029,
     "end_time": "2025-08-28T17:00:33.488731",
     "exception": false,
     "start_time": "2025-08-28T17:00:33.461702",
     "status": "completed"
    },
    "tags": []
   },
   "outputs": [
    {
     "name": "stdout",
     "output_type": "stream",
     "text": [
      "   age  education  employ  address  income  debtinc   creddebt   othdebt  \\\n",
      "0   41          3      17       12     176      9.3  11.359392  5.008608   \n",
      "1   27          1      10        6      31     17.3   1.362202  4.000798   \n",
      "2   40          1      15       14      55      5.5   0.856075  2.168925   \n",
      "3   41          1      15       14     120      2.9   2.658720  0.821280   \n",
      "4   24          2       2        0      28     17.3   1.787436  3.056564   \n",
      "\n",
      "   default  credit_score  \n",
      "0      1.0    575.934522  \n",
      "1      0.0    478.334960  \n",
      "2      0.0    508.423785  \n",
      "3      0.0    548.412256  \n",
      "4      1.0    469.753713  \n"
     ]
    }
   ],
   "source": [
    "credit_score_data.to_csv(\"cleaned_credit_data.csv\", index=False)\n",
    "df_loaded = pd.read_csv(\"cleaned_credit_data.csv\")\n",
    "\n",
    "print(df_loaded.head())"
   ]
  }
 ],
 "metadata": {
  "kaggle": {
   "accelerator": "none",
   "dataSources": [
    {
     "datasetId": 6331992,
     "sourceId": 10239349,
     "sourceType": "datasetVersion"
    }
   ],
   "dockerImageVersionId": 31040,
   "isGpuEnabled": false,
   "isInternetEnabled": false,
   "language": "python",
   "sourceType": "notebook"
  },
  "kernelspec": {
   "display_name": "Python 3",
   "language": "python",
   "name": "python3"
  },
  "language_info": {
   "codemirror_mode": {
    "name": "ipython",
    "version": 3
   },
   "file_extension": ".py",
   "mimetype": "text/x-python",
   "name": "python",
   "nbconvert_exporter": "python",
   "pygments_lexer": "ipython3",
   "version": "3.11.11"
  },
  "papermill": {
   "default_parameters": {},
   "duration": 9.872813,
   "end_time": "2025-08-28T17:00:34.112051",
   "environment_variables": {},
   "exception": null,
   "input_path": "__notebook__.ipynb",
   "output_path": "__notebook__.ipynb",
   "parameters": {},
   "start_time": "2025-08-28T17:00:24.239238",
   "version": "2.6.0"
  }
 },
 "nbformat": 4,
 "nbformat_minor": 5
}
