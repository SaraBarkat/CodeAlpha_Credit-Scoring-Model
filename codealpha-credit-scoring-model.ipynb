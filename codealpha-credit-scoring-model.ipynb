{
 "cells": [
  {
   "cell_type": "markdown",
   "id": "fc9602a3",
   "metadata": {
    "papermill": {
     "duration": 0.003155,
     "end_time": "2025-08-28T16:00:49.606137",
     "exception": false,
     "start_time": "2025-08-28T16:00:49.602982",
     "status": "completed"
    },
    "tags": []
   },
   "source": [
    "# Credit Score Prediction using Linear Regression"
   ]
  },
  {
   "cell_type": "markdown",
   "id": "f2f54ba6",
   "metadata": {
    "papermill": {
     "duration": 0.002089,
     "end_time": "2025-08-28T16:00:49.610941",
     "exception": false,
     "start_time": "2025-08-28T16:00:49.608852",
     "status": "completed"
    },
    "tags": []
   },
   "source": [
    "## Setup"
   ]
  },
  {
   "cell_type": "code",
   "execution_count": 1,
   "id": "b776736b",
   "metadata": {
    "execution": {
     "iopub.execute_input": "2025-08-28T16:00:49.617300Z",
     "iopub.status.busy": "2025-08-28T16:00:49.616350Z",
     "iopub.status.idle": "2025-08-28T16:00:53.495809Z",
     "shell.execute_reply": "2025-08-28T16:00:53.494819Z"
    },
    "papermill": {
     "duration": 3.884134,
     "end_time": "2025-08-28T16:00:53.497329",
     "exception": false,
     "start_time": "2025-08-28T16:00:49.613195",
     "status": "completed"
    },
    "tags": []
   },
   "outputs": [],
   "source": [
    "import pandas as pd\n",
    "import numpy as np\n",
    "from sklearn.tree import DecisionTreeRegressor"
   ]
  },
  {
   "cell_type": "markdown",
   "id": "be05c90b",
   "metadata": {
    "papermill": {
     "duration": 0.002132,
     "end_time": "2025-08-28T16:00:53.501896",
     "exception": false,
     "start_time": "2025-08-28T16:00:53.499764",
     "status": "completed"
    },
    "tags": []
   },
   "source": [
    "## Data Preparation"
   ]
  },
  {
   "cell_type": "code",
   "execution_count": 2,
   "id": "ee6d4cf9",
   "metadata": {
    "execution": {
     "iopub.execute_input": "2025-08-28T16:00:53.507653Z",
     "iopub.status.busy": "2025-08-28T16:00:53.507154Z",
     "iopub.status.idle": "2025-08-28T16:00:53.543479Z",
     "shell.execute_reply": "2025-08-28T16:00:53.542404Z"
    },
    "papermill": {
     "duration": 0.041069,
     "end_time": "2025-08-28T16:00:53.545103",
     "exception": false,
     "start_time": "2025-08-28T16:00:53.504034",
     "status": "completed"
    },
    "tags": []
   },
   "outputs": [
    {
     "name": "stdout",
     "output_type": "stream",
     "text": [
      "Index(['age', 'education', 'employ', 'address', 'income', 'debtinc',\n",
      "       'creddebt', 'othdebt', 'default', 'credit_score'],\n",
      "      dtype='object')\n"
     ]
    }
   ],
   "source": [
    "# Load the Data\n",
    "\n",
    "credit_score_data = pd.read_csv('/kaggle/input/credit-card-score/bankloans_with_scores.csv')\n",
    "credit_score_data.head(3)\n",
    "print(credit_score_data.columns)"
   ]
  },
  {
   "cell_type": "markdown",
   "id": "d7777857",
   "metadata": {
    "papermill": {
     "duration": 0.002101,
     "end_time": "2025-08-28T16:00:53.549783",
     "exception": false,
     "start_time": "2025-08-28T16:00:53.547682",
     "status": "completed"
    },
    "tags": []
   },
   "source": [
    "## Specify Prediction Target"
   ]
  },
  {
   "cell_type": "code",
   "execution_count": 3,
   "id": "6f0c9b37",
   "metadata": {
    "execution": {
     "iopub.execute_input": "2025-08-28T16:00:53.556187Z",
     "iopub.status.busy": "2025-08-28T16:00:53.555890Z",
     "iopub.status.idle": "2025-08-28T16:00:53.567393Z",
     "shell.execute_reply": "2025-08-28T16:00:53.566377Z"
    },
    "papermill": {
     "duration": 0.016726,
     "end_time": "2025-08-28T16:00:53.569084",
     "exception": false,
     "start_time": "2025-08-28T16:00:53.552358",
     "status": "completed"
    },
    "tags": []
   },
   "outputs": [
    {
     "name": "stdout",
     "output_type": "stream",
     "text": [
      "0       575.934522\n",
      "1       478.334960\n",
      "2       508.423785\n",
      "3       548.412256\n",
      "4       469.753713\n",
      "           ...    \n",
      "1145           NaN\n",
      "1146           NaN\n",
      "1147           NaN\n",
      "1148           NaN\n",
      "1149           NaN\n",
      "Name: credit_score, Length: 1150, dtype: float64\n"
     ]
    },
    {
     "name": "stderr",
     "output_type": "stream",
     "text": [
      "/usr/local/lib/python3.11/dist-packages/pandas/io/formats/format.py:1458: RuntimeWarning: invalid value encountered in greater\n",
      "  has_large_values = (abs_vals > 1e6).any()\n",
      "/usr/local/lib/python3.11/dist-packages/pandas/io/formats/format.py:1459: RuntimeWarning: invalid value encountered in less\n",
      "  has_small_values = ((abs_vals < 10 ** (-self.digits)) & (abs_vals > 0)).any()\n",
      "/usr/local/lib/python3.11/dist-packages/pandas/io/formats/format.py:1459: RuntimeWarning: invalid value encountered in greater\n",
      "  has_small_values = ((abs_vals < 10 ** (-self.digits)) & (abs_vals > 0)).any()\n"
     ]
    }
   ],
   "source": [
    "y= credit_score_data.credit_score\n",
    "print(y)"
   ]
  },
  {
   "cell_type": "markdown",
   "id": "4fd3009b",
   "metadata": {
    "papermill": {
     "duration": 0.002187,
     "end_time": "2025-08-28T16:00:53.573868",
     "exception": false,
     "start_time": "2025-08-28T16:00:53.571681",
     "status": "completed"
    },
    "tags": []
   },
   "source": [
    "## Data Preprocessing"
   ]
  },
  {
   "cell_type": "code",
   "execution_count": null,
   "id": "0a906e30",
   "metadata": {
    "papermill": {
     "duration": 0.00219,
     "end_time": "2025-08-28T16:00:53.578382",
     "exception": false,
     "start_time": "2025-08-28T16:00:53.576192",
     "status": "completed"
    },
    "tags": []
   },
   "outputs": [],
   "source": []
  },
  {
   "cell_type": "markdown",
   "id": "63c462e3",
   "metadata": {
    "papermill": {
     "duration": 0.002089,
     "end_time": "2025-08-28T16:00:53.582757",
     "exception": false,
     "start_time": "2025-08-28T16:00:53.580668",
     "status": "completed"
    },
    "tags": []
   },
   "source": [
    "## Build a Model"
   ]
  },
  {
   "cell_type": "markdown",
   "id": "73c61e43",
   "metadata": {
    "papermill": {
     "duration": 0.002054,
     "end_time": "2025-08-28T16:00:53.587002",
     "exception": false,
     "start_time": "2025-08-28T16:00:53.584948",
     "status": "completed"
    },
    "tags": []
   },
   "source": [
    "## Train and Evaluate"
   ]
  },
  {
   "cell_type": "code",
   "execution_count": null,
   "id": "1f5c4f87",
   "metadata": {
    "papermill": {
     "duration": 0.00201,
     "end_time": "2025-08-28T16:00:53.591373",
     "exception": false,
     "start_time": "2025-08-28T16:00:53.589363",
     "status": "completed"
    },
    "tags": []
   },
   "outputs": [],
   "source": []
  },
  {
   "cell_type": "markdown",
   "id": "665bc183",
   "metadata": {
    "papermill": {
     "duration": 0.002853,
     "end_time": "2025-08-28T16:00:53.596849",
     "exception": false,
     "start_time": "2025-08-28T16:00:53.593996",
     "status": "completed"
    },
    "tags": []
   },
   "source": [
    "## Save the Model"
   ]
  },
  {
   "cell_type": "markdown",
   "id": "1f6c69fd",
   "metadata": {
    "papermill": {
     "duration": 0.002267,
     "end_time": "2025-08-28T16:00:53.601632",
     "exception": false,
     "start_time": "2025-08-28T16:00:53.599365",
     "status": "completed"
    },
    "tags": []
   },
   "source": [
    "## Save the Dataframe"
   ]
  }
 ],
 "metadata": {
  "kaggle": {
   "accelerator": "none",
   "dataSources": [
    {
     "datasetId": 6331992,
     "sourceId": 10239349,
     "sourceType": "datasetVersion"
    }
   ],
   "dockerImageVersionId": 31040,
   "isGpuEnabled": false,
   "isInternetEnabled": false,
   "language": "python",
   "sourceType": "notebook"
  },
  "kernelspec": {
   "display_name": "Python 3",
   "language": "python",
   "name": "python3"
  },
  "language_info": {
   "codemirror_mode": {
    "name": "ipython",
    "version": 3
   },
   "file_extension": ".py",
   "mimetype": "text/x-python",
   "name": "python",
   "nbconvert_exporter": "python",
   "pygments_lexer": "ipython3",
   "version": "3.11.11"
  },
  "papermill": {
   "default_parameters": {},
   "duration": 9.8573,
   "end_time": "2025-08-28T16:00:54.224575",
   "environment_variables": {},
   "exception": null,
   "input_path": "__notebook__.ipynb",
   "output_path": "__notebook__.ipynb",
   "parameters": {},
   "start_time": "2025-08-28T16:00:44.367275",
   "version": "2.6.0"
  }
 },
 "nbformat": 4,
 "nbformat_minor": 5
}
