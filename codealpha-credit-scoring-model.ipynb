{
 "cells": [
  {
   "cell_type": "markdown",
   "id": "928cd600",
   "metadata": {
    "papermill": {
     "duration": 0.003221,
     "end_time": "2025-08-27T20:43:23.367103",
     "exception": false,
     "start_time": "2025-08-27T20:43:23.363882",
     "status": "completed"
    },
    "tags": []
   },
   "source": [
    "# Credit Score Prediction using Linear Regression"
   ]
  },
  {
   "cell_type": "markdown",
   "id": "fa59a5d5",
   "metadata": {
    "papermill": {
     "duration": 0.001941,
     "end_time": "2025-08-27T20:43:23.371695",
     "exception": false,
     "start_time": "2025-08-27T20:43:23.369754",
     "status": "completed"
    },
    "tags": []
   },
   "source": [
    "### Setup"
   ]
  },
  {
   "cell_type": "code",
   "execution_count": 1,
   "id": "83cee5cf",
   "metadata": {
    "execution": {
     "iopub.execute_input": "2025-08-27T20:43:23.377628Z",
     "iopub.status.busy": "2025-08-27T20:43:23.377201Z",
     "iopub.status.idle": "2025-08-27T20:43:27.438083Z",
     "shell.execute_reply": "2025-08-27T20:43:27.437096Z"
    },
    "papermill": {
     "duration": 4.066449,
     "end_time": "2025-08-27T20:43:27.440283",
     "exception": false,
     "start_time": "2025-08-27T20:43:23.373834",
     "status": "completed"
    },
    "tags": []
   },
   "outputs": [],
   "source": [
    "import pandas as pd\n",
    "import numpy as np\n",
    "from sklearn.tree import DecisionTreeRegressor"
   ]
  },
  {
   "cell_type": "markdown",
   "id": "0334b815",
   "metadata": {
    "papermill": {
     "duration": 0.002037,
     "end_time": "2025-08-27T20:43:27.444932",
     "exception": false,
     "start_time": "2025-08-27T20:43:27.442895",
     "status": "completed"
    },
    "tags": []
   },
   "source": [
    "### Data Preparation"
   ]
  },
  {
   "cell_type": "code",
   "execution_count": 2,
   "id": "defcbe70",
   "metadata": {
    "execution": {
     "iopub.execute_input": "2025-08-27T20:43:27.450958Z",
     "iopub.status.busy": "2025-08-27T20:43:27.450502Z",
     "iopub.status.idle": "2025-08-27T20:43:27.498146Z",
     "shell.execute_reply": "2025-08-27T20:43:27.496997Z"
    },
    "papermill": {
     "duration": 0.052609,
     "end_time": "2025-08-27T20:43:27.499853",
     "exception": false,
     "start_time": "2025-08-27T20:43:27.447244",
     "status": "completed"
    },
    "tags": []
   },
   "outputs": [
    {
     "data": {
      "text/html": [
       "<div>\n",
       "<style scoped>\n",
       "    .dataframe tbody tr th:only-of-type {\n",
       "        vertical-align: middle;\n",
       "    }\n",
       "\n",
       "    .dataframe tbody tr th {\n",
       "        vertical-align: top;\n",
       "    }\n",
       "\n",
       "    .dataframe thead th {\n",
       "        text-align: right;\n",
       "    }\n",
       "</style>\n",
       "<table border=\"1\" class=\"dataframe\">\n",
       "  <thead>\n",
       "    <tr style=\"text-align: right;\">\n",
       "      <th></th>\n",
       "      <th>age</th>\n",
       "      <th>education</th>\n",
       "      <th>employ</th>\n",
       "      <th>address</th>\n",
       "      <th>income</th>\n",
       "      <th>debtinc</th>\n",
       "      <th>creddebt</th>\n",
       "      <th>othdebt</th>\n",
       "      <th>default</th>\n",
       "      <th>credit_score</th>\n",
       "    </tr>\n",
       "  </thead>\n",
       "  <tbody>\n",
       "    <tr>\n",
       "      <th>0</th>\n",
       "      <td>41</td>\n",
       "      <td>3</td>\n",
       "      <td>17</td>\n",
       "      <td>12</td>\n",
       "      <td>176</td>\n",
       "      <td>9.3</td>\n",
       "      <td>11.359392</td>\n",
       "      <td>5.008608</td>\n",
       "      <td>1.0</td>\n",
       "      <td>575.934522</td>\n",
       "    </tr>\n",
       "    <tr>\n",
       "      <th>1</th>\n",
       "      <td>27</td>\n",
       "      <td>1</td>\n",
       "      <td>10</td>\n",
       "      <td>6</td>\n",
       "      <td>31</td>\n",
       "      <td>17.3</td>\n",
       "      <td>1.362202</td>\n",
       "      <td>4.000798</td>\n",
       "      <td>0.0</td>\n",
       "      <td>478.334960</td>\n",
       "    </tr>\n",
       "    <tr>\n",
       "      <th>2</th>\n",
       "      <td>40</td>\n",
       "      <td>1</td>\n",
       "      <td>15</td>\n",
       "      <td>14</td>\n",
       "      <td>55</td>\n",
       "      <td>5.5</td>\n",
       "      <td>0.856075</td>\n",
       "      <td>2.168925</td>\n",
       "      <td>0.0</td>\n",
       "      <td>508.423785</td>\n",
       "    </tr>\n",
       "  </tbody>\n",
       "</table>\n",
       "</div>"
      ],
      "text/plain": [
       "   age  education  employ  address  income  debtinc   creddebt   othdebt  \\\n",
       "0   41          3      17       12     176      9.3  11.359392  5.008608   \n",
       "1   27          1      10        6      31     17.3   1.362202  4.000798   \n",
       "2   40          1      15       14      55      5.5   0.856075  2.168925   \n",
       "\n",
       "   default  credit_score  \n",
       "0      1.0    575.934522  \n",
       "1      0.0    478.334960  \n",
       "2      0.0    508.423785  "
      ]
     },
     "execution_count": 2,
     "metadata": {},
     "output_type": "execute_result"
    }
   ],
   "source": [
    "# Load the Data\n",
    "\n",
    "credit_score_data = pd.read_csv('/kaggle/input/credit-card-score/bankloans_with_scores.csv')\n",
    "credit_score_data.head(3)"
   ]
  },
  {
   "cell_type": "markdown",
   "id": "4f073d1c",
   "metadata": {
    "papermill": {
     "duration": 0.002193,
     "end_time": "2025-08-27T20:43:27.504716",
     "exception": false,
     "start_time": "2025-08-27T20:43:27.502523",
     "status": "completed"
    },
    "tags": []
   },
   "source": [
    "### Data Splitting"
   ]
  },
  {
   "cell_type": "markdown",
   "id": "c594384f",
   "metadata": {
    "papermill": {
     "duration": 0.002061,
     "end_time": "2025-08-27T20:43:27.509200",
     "exception": false,
     "start_time": "2025-08-27T20:43:27.507139",
     "status": "completed"
    },
    "tags": []
   },
   "source": [
    "### Data Preprocessing"
   ]
  },
  {
   "cell_type": "markdown",
   "id": "34de2002",
   "metadata": {
    "papermill": {
     "duration": 0.00199,
     "end_time": "2025-08-27T20:43:27.513552",
     "exception": false,
     "start_time": "2025-08-27T20:43:27.511562",
     "status": "completed"
    },
    "tags": []
   },
   "source": [
    "### Build a Model"
   ]
  },
  {
   "cell_type": "markdown",
   "id": "1bcf5c86",
   "metadata": {
    "papermill": {
     "duration": 0.002028,
     "end_time": "2025-08-27T20:43:27.517768",
     "exception": false,
     "start_time": "2025-08-27T20:43:27.515740",
     "status": "completed"
    },
    "tags": []
   },
   "source": [
    "### Train and Evaluate"
   ]
  },
  {
   "cell_type": "markdown",
   "id": "4c8c648f",
   "metadata": {
    "papermill": {
     "duration": 0.002002,
     "end_time": "2025-08-27T20:43:27.521964",
     "exception": false,
     "start_time": "2025-08-27T20:43:27.519962",
     "status": "completed"
    },
    "tags": []
   },
   "source": [
    "### Save the Model"
   ]
  },
  {
   "cell_type": "markdown",
   "id": "c614d1ab",
   "metadata": {
    "papermill": {
     "duration": 0.002448,
     "end_time": "2025-08-27T20:43:27.526638",
     "exception": false,
     "start_time": "2025-08-27T20:43:27.524190",
     "status": "completed"
    },
    "tags": []
   },
   "source": [
    "### Save the Dataframe"
   ]
  }
 ],
 "metadata": {
  "kaggle": {
   "accelerator": "none",
   "dataSources": [
    {
     "datasetId": 6331992,
     "sourceId": 10239349,
     "sourceType": "datasetVersion"
    }
   ],
   "dockerImageVersionId": 31040,
   "isGpuEnabled": false,
   "isInternetEnabled": false,
   "language": "python",
   "sourceType": "notebook"
  },
  "kernelspec": {
   "display_name": "Python 3",
   "language": "python",
   "name": "python3"
  },
  "language_info": {
   "codemirror_mode": {
    "name": "ipython",
    "version": 3
   },
   "file_extension": ".py",
   "mimetype": "text/x-python",
   "name": "python",
   "nbconvert_exporter": "python",
   "pygments_lexer": "ipython3",
   "version": "3.11.11"
  },
  "papermill": {
   "default_parameters": {},
   "duration": 10.551552,
   "end_time": "2025-08-27T20:43:28.148340",
   "environment_variables": {},
   "exception": null,
   "input_path": "__notebook__.ipynb",
   "output_path": "__notebook__.ipynb",
   "parameters": {},
   "start_time": "2025-08-27T20:43:17.596788",
   "version": "2.6.0"
  }
 },
 "nbformat": 4,
 "nbformat_minor": 5
}
